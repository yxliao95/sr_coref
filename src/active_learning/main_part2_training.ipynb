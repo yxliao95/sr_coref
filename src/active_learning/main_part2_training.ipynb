{
 "cells": [
  {
   "attachments": {},
   "cell_type": "markdown",
   "metadata": {},
   "source": [
    "# Active learning - part 2 - resolve annotation and model training\n",
    "\n",
    "1. communicate_brat_server：Download annotated data from the BRAT server\n",
    "2. process_brat_annotation：Resolve annotated data\n",
    "3. build_training_data：create training data\n",
    "4. Model training"
   ]
  },
  {
   "cell_type": "code",
   "execution_count": 1,
   "metadata": {},
   "outputs": [],
   "source": [
    "import sys\n",
    "sys.path.append(\"../../src/\")\n",
    "sys.path.append(\"../../../../git_clone_repos/fast-coref/src/\")"
   ]
  },
  {
   "cell_type": "code",
   "execution_count": 2,
   "metadata": {},
   "outputs": [],
   "source": [
    "from hydra import compose, initialize\n",
    "from omegaconf import OmegaConf\n",
    "\n",
    "config = None\n",
    "with initialize(version_base=None, config_path=\"../config\", job_name=\"active_learning\"):\n",
    "    config = compose(config_name=\"active_learning\")\n",
    "# print(OmegaConf.to_yaml(config))"
   ]
  },
  {
   "attachments": {},
   "cell_type": "markdown",
   "metadata": {},
   "source": [
    "## Step 1: Download annotated data from the BRAT server"
   ]
  },
  {
   "cell_type": "code",
   "execution_count": 3,
   "metadata": {},
   "outputs": [
    {
     "name": "stderr",
     "output_type": "stream",
     "text": [
      "100%|██████████| 2/2 [00:02<00:00,  1.21s/it]\n",
      "100%|██████████| 10/10 [00:12<00:00,  1.21s/it]\n",
      "100%|██████████| 10/10 [00:12<00:00,  1.21s/it]\n",
      "3it [00:29,  9.70s/it]\n"
     ]
    }
   ],
   "source": [
    "import os\n",
    "from active_learning.communicate_brat_server import RemoteConnection\n",
    "\n",
    "brat_server_basedir_name = f\"iter_{config.current_iter}\"\n",
    "brat_server_dir = os.path.join(config.remote_server.brat.data_dir, brat_server_basedir_name)\n",
    "\n",
    "brat_finished_parent_dir = os.path.split(config.output.brat.finished_dir)[0]\n",
    "brat_finished_base_dir_name = os.path.split(config.output.brat.finished_dir)[1]\n",
    "\n",
    "hostname = config.remote_server.brat.hostname\n",
    "username = config.remote_server.brat.username\n",
    "password = config.remote_server.brat.password\n",
    "connection = RemoteConnection(hostname, username, password)\n",
    "connection.get_all(\n",
    "    brat_server_dir,\n",
    "    brat_finished_parent_dir,\n",
    ")\n",
    "connection.close_client()\n",
    "\n",
    "# Rename local dir\n",
    "os.rename(\n",
    "    os.path.join(brat_finished_parent_dir, brat_server_basedir_name),\n",
    "    os.path.join(brat_finished_parent_dir, brat_finished_base_dir_name),\n",
    ")"
   ]
  },
  {
   "attachments": {},
   "cell_type": "markdown",
   "metadata": {},
   "source": [
    "## Step 2: Resolve brat data and build training data"
   ]
  },
  {
   "cell_type": "code",
   "execution_count": 3,
   "metadata": {},
   "outputs": [
    {
     "name": "stdout",
     "output_type": "stream",
     "text": [
      "/home/yuxiangliao/PhD/workspace/VSCode_workspace/sr_coref/output/mimic_cxr/active_learning/iter_8/brat_finished/findings/s57786720.txt\n",
      "/home/yuxiangliao/PhD/workspace/VSCode_workspace/sr_coref/output/mimic_cxr/active_learning/iter_8/brat_finished/findings/s53097934.txt\n",
      "/home/yuxiangliao/PhD/workspace/VSCode_workspace/sr_coref/output/mimic_cxr/active_learning/iter_8/brat_finished/findings/s58779775.txt\n",
      "/home/yuxiangliao/PhD/workspace/VSCode_workspace/sr_coref/output/mimic_cxr/active_learning/iter_8/brat_finished/findings/s59074740.txt\n",
      "/home/yuxiangliao/PhD/workspace/VSCode_workspace/sr_coref/output/mimic_cxr/active_learning/iter_8/brat_finished/findings/s56075000.txt\n",
      "/home/yuxiangliao/PhD/workspace/VSCode_workspace/sr_coref/output/mimic_cxr/active_learning/iter_8/brat_finished/findings/s56081725.txt\n",
      "/home/yuxiangliao/PhD/workspace/VSCode_workspace/sr_coref/output/mimic_cxr/active_learning/iter_8/brat_finished/findings/s58011103.txt\n",
      "/home/yuxiangliao/PhD/workspace/VSCode_workspace/sr_coref/output/mimic_cxr/active_learning/iter_8/brat_finished/findings/s56991234.txt\n",
      "/home/yuxiangliao/PhD/workspace/VSCode_workspace/sr_coref/output/mimic_cxr/active_learning/iter_8/brat_finished/findings/s53672228.txt\n",
      "/home/yuxiangliao/PhD/workspace/VSCode_workspace/sr_coref/output/mimic_cxr/active_learning/iter_8/brat_finished/findings/s58776572.txt\n",
      "/home/yuxiangliao/PhD/workspace/VSCode_workspace/sr_coref/output/mimic_cxr/active_learning/iter_8/brat_finished/findings/s54991435.txt\n",
      "/home/yuxiangliao/PhD/workspace/VSCode_workspace/sr_coref/output/mimic_cxr/active_learning/iter_8/brat_finished/findings/s57890819.txt\n",
      "/home/yuxiangliao/PhD/workspace/VSCode_workspace/sr_coref/output/mimic_cxr/active_learning/iter_8/brat_finished/findings/s53425665.txt\n",
      "/home/yuxiangliao/PhD/workspace/VSCode_workspace/sr_coref/output/mimic_cxr/active_learning/iter_8/brat_finished/findings/s50532535.txt\n",
      "/home/yuxiangliao/PhD/workspace/VSCode_workspace/sr_coref/output/mimic_cxr/active_learning/iter_8/brat_finished/findings/s51934917.txt\n",
      "/home/yuxiangliao/PhD/workspace/VSCode_workspace/sr_coref/output/mimic_cxr/active_learning/iter_8/brat_finished/findings/s51808241.txt\n",
      "/home/yuxiangliao/PhD/workspace/VSCode_workspace/sr_coref/output/mimic_cxr/active_learning/iter_8/brat_finished/findings/s59983386.txt\n",
      "/home/yuxiangliao/PhD/workspace/VSCode_workspace/sr_coref/output/mimic_cxr/active_learning/iter_8/brat_finished/findings/s55634930.txt\n",
      "/home/yuxiangliao/PhD/workspace/VSCode_workspace/sr_coref/output/mimic_cxr/active_learning/iter_8/brat_finished/findings/s54248922.txt\n",
      "/home/yuxiangliao/PhD/workspace/VSCode_workspace/sr_coref/output/mimic_cxr/active_learning/iter_8/brat_finished/findings/s53567835.txt\n",
      "/home/yuxiangliao/PhD/workspace/VSCode_workspace/sr_coref/output/mimic_cxr/active_learning/iter_8/brat_finished/findings/s53339075.txt\n",
      "/home/yuxiangliao/PhD/workspace/VSCode_workspace/sr_coref/output/mimic_cxr/active_learning/iter_8/brat_finished/findings/s56590155.txt\n",
      "/home/yuxiangliao/PhD/workspace/VSCode_workspace/sr_coref/output/mimic_cxr/active_learning/iter_8/brat_finished/findings/s57617594.txt\n",
      "/home/yuxiangliao/PhD/workspace/VSCode_workspace/sr_coref/output/mimic_cxr/active_learning/iter_8/brat_finished/findings/s50295031.txt\n",
      "/home/yuxiangliao/PhD/workspace/VSCode_workspace/sr_coref/output/mimic_cxr/active_learning/iter_8/brat_finished/findings/s51496126.txt\n",
      "/home/yuxiangliao/PhD/workspace/VSCode_workspace/sr_coref/output/mimic_cxr/active_learning/iter_8/brat_finished/impression/s54104161.txt\n",
      "/home/yuxiangliao/PhD/workspace/VSCode_workspace/sr_coref/output/mimic_cxr/active_learning/iter_8/brat_finished/impression/s54718004.txt\n",
      "/home/yuxiangliao/PhD/workspace/VSCode_workspace/sr_coref/output/mimic_cxr/active_learning/iter_8/brat_finished/impression/s50091414.txt\n",
      "/home/yuxiangliao/PhD/workspace/VSCode_workspace/sr_coref/output/mimic_cxr/active_learning/iter_8/brat_finished/impression/s54165452.txt\n",
      "/home/yuxiangliao/PhD/workspace/VSCode_workspace/sr_coref/output/mimic_cxr/active_learning/iter_8/brat_finished/impression/s51427308.txt\n",
      "/home/yuxiangliao/PhD/workspace/VSCode_workspace/sr_coref/output/mimic_cxr/active_learning/iter_8/brat_finished/impression/s51622083.txt\n",
      "/home/yuxiangliao/PhD/workspace/VSCode_workspace/sr_coref/output/mimic_cxr/active_learning/iter_8/brat_finished/impression/s59378727.txt\n",
      "/home/yuxiangliao/PhD/workspace/VSCode_workspace/sr_coref/output/mimic_cxr/active_learning/iter_8/brat_finished/impression/s53015020.txt\n",
      "/home/yuxiangliao/PhD/workspace/VSCode_workspace/sr_coref/output/mimic_cxr/active_learning/iter_8/brat_finished/impression/s57918524.txt\n",
      "/home/yuxiangliao/PhD/workspace/VSCode_workspace/sr_coref/output/mimic_cxr/active_learning/iter_8/brat_finished/impression/s53721807.txt\n",
      "/home/yuxiangliao/PhD/workspace/VSCode_workspace/sr_coref/output/mimic_cxr/active_learning/iter_8/brat_finished/impression/s54923396.txt\n",
      "/home/yuxiangliao/PhD/workspace/VSCode_workspace/sr_coref/output/mimic_cxr/active_learning/iter_8/brat_finished/impression/s59381907.txt\n",
      "/home/yuxiangliao/PhD/workspace/VSCode_workspace/sr_coref/output/mimic_cxr/active_learning/iter_8/brat_finished/impression/s59880237.txt\n",
      "/home/yuxiangliao/PhD/workspace/VSCode_workspace/sr_coref/output/mimic_cxr/active_learning/iter_8/brat_finished/impression/s59276109.txt\n",
      "/home/yuxiangliao/PhD/workspace/VSCode_workspace/sr_coref/output/mimic_cxr/active_learning/iter_8/brat_finished/impression/s54037700.txt\n",
      "/home/yuxiangliao/PhD/workspace/VSCode_workspace/sr_coref/output/mimic_cxr/active_learning/iter_8/brat_finished/impression/s56796239.txt\n",
      "/home/yuxiangliao/PhD/workspace/VSCode_workspace/sr_coref/output/mimic_cxr/active_learning/iter_8/brat_finished/impression/s54911074.txt\n",
      "/home/yuxiangliao/PhD/workspace/VSCode_workspace/sr_coref/output/mimic_cxr/active_learning/iter_8/brat_finished/impression/s51967810.txt\n",
      "/home/yuxiangliao/PhD/workspace/VSCode_workspace/sr_coref/output/mimic_cxr/active_learning/iter_8/brat_finished/impression/s55882553.txt\n",
      "/home/yuxiangliao/PhD/workspace/VSCode_workspace/sr_coref/output/mimic_cxr/active_learning/iter_8/brat_finished/impression/s58872747.txt\n",
      "/home/yuxiangliao/PhD/workspace/VSCode_workspace/sr_coref/output/mimic_cxr/active_learning/iter_8/brat_finished/impression/s54825788.txt\n",
      "/home/yuxiangliao/PhD/workspace/VSCode_workspace/sr_coref/output/mimic_cxr/active_learning/iter_8/brat_finished/impression/s58693168.txt\n",
      "/home/yuxiangliao/PhD/workspace/VSCode_workspace/sr_coref/output/mimic_cxr/active_learning/iter_8/brat_finished/impression/s54846904.txt\n",
      "/home/yuxiangliao/PhD/workspace/VSCode_workspace/sr_coref/output/mimic_cxr/active_learning/iter_8/brat_finished/impression/s57056344.txt\n",
      "/home/yuxiangliao/PhD/workspace/VSCode_workspace/sr_coref/output/mimic_cxr/active_learning/iter_8/brat_finished/impression/s53488941.txt\n"
     ]
    },
    {
     "ename": "FileNotFoundError",
     "evalue": "[Errno 2] No such file or directory: '/home/yuxiangliao/PhD/workspace/VSCode_workspace/sr_coref/output/mimic_cxr/active_learning/iter_7/model_training_data/conll/train.conll'",
     "output_type": "error",
     "traceback": [
      "\u001b[0;31m---------------------------------------------------------------------------\u001b[0m",
      "\u001b[0;31mFileNotFoundError\u001b[0m                         Traceback (most recent call last)",
      "Cell \u001b[0;32mIn[3], line 13\u001b[0m\n\u001b[1;32m     11\u001b[0m build_aggregrated_conll(config)\n\u001b[1;32m     12\u001b[0m build_jsonlines(config)\n\u001b[0;32m---> 13\u001b[0m concat_previous_conll_and_jsonlines(config)\n\u001b[1;32m     15\u001b[0m \u001b[39mprint\u001b[39m(\u001b[39m\"\u001b[39m\u001b[39mThe training data is created at: \u001b[39m\u001b[39m\\n\u001b[39;00m\u001b[39m\"\u001b[39m, config\u001b[39m.\u001b[39moutput\u001b[39m.\u001b[39mmodel_training_data\u001b[39m.\u001b[39mbase_dir)\n",
      "File \u001b[0;32m~/PhD/workspace/VSCode_workspace/sr_coref/src/active_learning/../../src/active_learning/build_training_data.py:150\u001b[0m, in \u001b[0;36mconcat_previous_conll_and_jsonlines\u001b[0;34m(config)\u001b[0m\n\u001b[1;32m    147\u001b[0m curr_train_jsonlines_file \u001b[39m=\u001b[39m os\u001b[39m.\u001b[39mpath\u001b[39m.\u001b[39mjoin(config\u001b[39m.\u001b[39moutput\u001b[39m.\u001b[39mmodel_training_data\u001b[39m.\u001b[39mlongformer, \u001b[39mf\u001b[39m\u001b[39m\"\u001b[39m\u001b[39mtrain.\u001b[39m\u001b[39m{\u001b[39;00mSEG_LEN\u001b[39m}\u001b[39;00m\u001b[39m.jsonlines\u001b[39m\u001b[39m\"\u001b[39m)\n\u001b[1;32m    149\u001b[0m \u001b[39m# concat prev and curr conll files\u001b[39;00m\n\u001b[0;32m--> 150\u001b[0m \u001b[39mwith\u001b[39;00m \u001b[39mopen\u001b[39;49m(previous_train_conll_file, \u001b[39m\"\u001b[39;49m\u001b[39mr\u001b[39;49m\u001b[39m\"\u001b[39;49m, encoding\u001b[39m=\u001b[39;49m\u001b[39m\"\u001b[39;49m\u001b[39mutf-8\u001b[39;49m\u001b[39m\"\u001b[39;49m) \u001b[39mas\u001b[39;00m f:\n\u001b[1;32m    151\u001b[0m     prev_train_conll_lines \u001b[39m=\u001b[39m f\u001b[39m.\u001b[39mreadlines()\n\u001b[1;32m    152\u001b[0m \u001b[39mwith\u001b[39;00m \u001b[39mopen\u001b[39m(curr_train_conll_file, \u001b[39m\"\u001b[39m\u001b[39mr\u001b[39m\u001b[39m\"\u001b[39m, encoding\u001b[39m=\u001b[39m\u001b[39m\"\u001b[39m\u001b[39mutf-8\u001b[39m\u001b[39m\"\u001b[39m) \u001b[39mas\u001b[39;00m f:\n",
      "\u001b[0;31mFileNotFoundError\u001b[0m: [Errno 2] No such file or directory: '/home/yuxiangliao/PhD/workspace/VSCode_workspace/sr_coref/output/mimic_cxr/active_learning/iter_7/model_training_data/conll/train.conll'"
     ]
    }
   ],
   "source": [
    "from active_learning.process_brat_annotation import resolve_brat\n",
    "from active_learning.build_training_data import (\n",
    "    build_aggregrated_conll,\n",
    "    concat_previous_conll_and_jsonlines,\n",
    "    build_individua_conll,\n",
    "    build_jsonlines,\n",
    ")\n",
    "\n",
    "resolve_brat(config)\n",
    "build_individua_conll(config)\n",
    "build_aggregrated_conll(config)\n",
    "build_jsonlines(config)\n",
    "concat_previous_conll_and_jsonlines(config)\n",
    "\n",
    "print(\"The training data is created at: \\n\", config.output.model_training_data.base_dir)"
   ]
  },
  {
   "attachments": {},
   "cell_type": "markdown",
   "metadata": {},
   "source": [
    "## Step 3: Move training data to the model's resource dir"
   ]
  },
  {
   "cell_type": "code",
   "execution_count": 5,
   "metadata": {},
   "outputs": [
    {
     "data": {
      "text/plain": [
       "'/home/yuxiangliao/PhD/workspace/git_clone_repos/fast-coref/coref_resources/data/mimic_active_learning_iter_1'"
      ]
     },
     "execution_count": 5,
     "metadata": {},
     "output_type": "execute_result"
    }
   ],
   "source": [
    "import shutil\n",
    "source_dir = config.output.model_training_data.base_dir\n",
    "des_dir = config.coref_model.dataset_dir\n",
    "# copy the subdirs from source_dir to des_dir\n",
    "shutil.copytree(source_dir, des_dir)"
   ]
  },
  {
   "attachments": {},
   "cell_type": "markdown",
   "metadata": {},
   "source": [
    "## Step 4: Create model's config files"
   ]
  },
  {
   "cell_type": "code",
   "execution_count": null,
   "metadata": {},
   "outputs": [],
   "source": [
    "import os\n",
    "from active_learning.utils import get_trainset_size\n",
    "\n",
    "dataset_name = config.coref_model.dataset_name\n",
    "num_train_docs = get_trainset_size(config)\n",
    "\n",
    "content = f\"\"\"{dataset_name}:\n",
    "\\tname: \"{dataset_name}\"\n",
    "\\tcluster_threshold: 2  # Singletons are ignored for evaluation (also not annotated)\n",
    "\\tcanonical_cluster_threshold: 2\n",
    "\\ttargeted_eval: False\n",
    "\\tnum_train_docs: {num_train_docs}\n",
    "\\tnum_dev_docs: 25\n",
    "\\tnum_test_docs: 200\n",
    "\\thas_conll: True\n",
    "\\tsingleton_file: null\n",
    "\"\"\"\n",
    "\n",
    "dataset_conf_file = os.path.join(config.coref_model.conf_base_dir,\"datasets\",f\"{dataset_name}.yaml\")\n",
    "with open(dataset_conf_file, \"w\", encoding=\"utf-8\") as f:\n",
    "    f.write(content)"
   ]
  },
  {
   "cell_type": "code",
   "execution_count": null,
   "metadata": {},
   "outputs": [],
   "source": [
    "content = f\"\"\"# @package _global_\n",
    "\n",
    "defaults:\n",
    "\\t- override /datasets: {dataset_name}\n",
    "\\t- override /trainer: train.yaml\n",
    "\\t- override /model/doc_encoder/transformer: longformer_joint_arcca_local\n",
    "\n",
    "trainer:\n",
    "\\tlog_frequency: 50\n",
    "\\tpatience: 10\n",
    "\\tmax_evals: 100\n",
    "\\teval_per_k_steps: {num_train_docs}\n",
    "\n",
    "model:\n",
    "\\tdoc_encoder:\n",
    "\\t\\tadd_speaker_tokens: True\n",
    "\\t\\tfinetune: False\n",
    "\"\"\"\n",
    "\n",
    "dataset_conf_file = os.path.join(config.coref_model.conf_base_dir,\"experiment\",\"arcca_exp_10.yaml\")\n",
    "with open(dataset_conf_file, \"w\", encoding=\"utf-8\") as f:\n",
    "    f.write(content)"
   ]
  },
  {
   "attachments": {},
   "cell_type": "markdown",
   "metadata": {},
   "source": [
    "## Step 4: Model training"
   ]
  }
 ],
 "metadata": {
  "kernelspec": {
   "display_name": "sr_coref",
   "language": "python",
   "name": "python3"
  },
  "language_info": {
   "codemirror_mode": {
    "name": "ipython",
    "version": 3
   },
   "file_extension": ".py",
   "mimetype": "text/x-python",
   "name": "python",
   "nbconvert_exporter": "python",
   "pygments_lexer": "ipython3",
   "version": "3.9.16"
  },
  "orig_nbformat": 4
 },
 "nbformat": 4,
 "nbformat_minor": 2
}
