{
 "cells": [
  {
   "cell_type": "code",
   "execution_count": 13,
   "metadata": {},
   "outputs": [],
   "source": [
    "import os\n",
    "import re"
   ]
  },
  {
   "cell_type": "code",
   "execution_count": 14,
   "metadata": {},
   "outputs": [],
   "source": [
    "test_conll_path = \"/root/workspace/sr_coref/src/benchmarking/test.conll\"\n",
    "with open(test_conll_path, \"r\", encoding=\"utf-8\") as f:\n",
    "    rows = f.readlines()\n",
    "    rows = [i.strip(\"\\n\") for i in rows]"
   ]
  },
  {
   "cell_type": "code",
   "execution_count": null,
   "metadata": {},
   "outputs": [],
   "source": [
    "class ConllDocument:\n",
    "    def __init__(self, doc_key):\n",
    "        self.doc_key = doc_key\n",
    "        self.sent_toks = []\n",
    "        self.sent_tok_idx = []"
   ]
  },
  {
   "cell_type": "code",
   "execution_count": 15,
   "metadata": {},
   "outputs": [
    {
     "data": {
      "text/plain": [
       "'#begin document (s55122346_impression); part 0'"
      ]
     },
     "execution_count": 15,
     "metadata": {},
     "output_type": "execute_result"
    }
   ],
   "source": [
    "rows[0]"
   ]
  },
  {
   "cell_type": "code",
   "execution_count": 32,
   "metadata": {},
   "outputs": [
    {
     "data": {
      "text/plain": [
       "'s55122346_impression'"
      ]
     },
     "execution_count": 32,
     "metadata": {},
     "output_type": "execute_result"
    }
   ],
   "source": [
    "obj = re.match(r'#begin document \\((.+)\\); part 0', rows[0])\n",
    "obj.group(1)"
   ]
  },
  {
   "cell_type": "code",
   "execution_count": 56,
   "metadata": {},
   "outputs": [],
   "source": [
    "a = \"s52428114_impression\t0\t3\tthe\t_\t_\t_\t_\t_\t_\t_\t_\t(0\"\n",
    "b = \"s52428114_impression\t0\t4\tright\t_\t_\t_\t_\t_\t_\t_\t_\"\n",
    "\n",
    "obj = re.match(r\".+\\t\\d+\\t\\d+\\t(.*?)(\\t_){8}(\\t(.+))?\", b)\n",
    "token_str = obj.group(1)\n",
    "token_coref_ids = obj.group(4)\n",
    "if token_coref_ids:\n",
    "    print(token_str, token_coref_ids)"
   ]
  }
 ],
 "metadata": {
  "kernelspec": {
   "display_name": "coref_benchmark",
   "language": "python",
   "name": "python3"
  },
  "language_info": {
   "codemirror_mode": {
    "name": "ipython",
    "version": 3
   },
   "file_extension": ".py",
   "mimetype": "text/x-python",
   "name": "python",
   "nbconvert_exporter": "python",
   "pygments_lexer": "ipython3",
   "version": "3.6.13"
  }
 },
 "nbformat": 4,
 "nbformat_minor": 2
}
